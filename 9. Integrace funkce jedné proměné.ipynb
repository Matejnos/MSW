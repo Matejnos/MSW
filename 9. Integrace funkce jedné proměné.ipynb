{
 "cells": [
  {
   "cell_type": "code",
   "execution_count": 1,
   "metadata": {},
   "outputs": [],
   "source": [
    "import sympy\n",
    "import matplotlib.pyplot as plt"
   ]
  },
  {
   "attachments": {},
   "cell_type": "markdown",
   "metadata": {},
   "source": [
    "# Newtonovy-Cotesovy vzorce"
   ]
  },
  {
   "cell_type": "code",
   "execution_count": 4,
   "metadata": {},
   "outputs": [],
   "source": [
    "def obdelnikove (funkce, zacatek, konec, krok):\n",
    "\n",
    "    integral = 0\n",
    "    x = zacatek\n",
    "    dx = krok\n",
    "\n",
    "    while x < konec:\n",
    "        integral += dx * funkce((2*x + dx)/2) \n",
    "        x += dx\n",
    "    return integral"
   ]
  },
  {
   "cell_type": "code",
   "execution_count": 11,
   "metadata": {},
   "outputs": [],
   "source": [
    "def lichobeznikove (funkce, zacatek, konec, krok):\n",
    "\n",
    "    integral = 0\n",
    "    x = zacatek\n",
    "    dx = krok\n",
    "\n",
    "    while x < konec:\n",
    "        integral += dx * (funkce(x) + funkce(x+dx))/2\n",
    "        x += dx\n",
    "    return integral"
   ]
  },
  {
   "cell_type": "code",
   "execution_count": 15,
   "metadata": {},
   "outputs": [],
   "source": [
    "def simpsonovo(funkce, zacatek, konec, krok):\n",
    "\n",
    "    integral = 0\n",
    "    x = zacatek\n",
    "    dx = krok\n",
    "\n",
    "    while x < konec:\n",
    "        integral += dx * (funkce(x) + 4*funkce((2*x + dx)/2) + funkce(x+dx))/6\n",
    "        x += dx\n",
    "    return integral"
   ]
  },
  {
   "attachments": {},
   "cell_type": "markdown",
   "metadata": {},
   "source": [
    "# Polynom"
   ]
  },
  {
   "cell_type": "code",
   "execution_count": 26,
   "metadata": {},
   "outputs": [],
   "source": [
    "# přepis funkce\n",
    "\n",
    "def f(x):\n",
    "    return x**5 - 4*x**4 + 3*x**3 + 10*x**2 - 5*x + 4\n",
    "\n",
    "a = -1\n",
    "b = 1"
   ]
  },
  {
   "cell_type": "code",
   "execution_count": 27,
   "metadata": {},
   "outputs": [
    {
     "name": "stdout",
     "output_type": "stream",
     "text": [
      "196/15\n"
     ]
    }
   ],
   "source": [
    "# řešení pomocí sympy\n",
    "\n",
    "x = sympy.Symbol('x')\n",
    "print(sympy.integrate(f(x), (x, a, b)))\n",
    "# ukladám pro provnávání přesností\n",
    "analyt = sympy.integrate(f(x), (x, a, b))"
   ]
  },
  {
   "attachments": {},
   "cell_type": "markdown",
   "metadata": {},
   "source": [
    "## Obdelníkové"
   ]
  },
  {
   "cell_type": "code",
   "execution_count": 28,
   "metadata": {},
   "outputs": [
    {
     "name": "stdout",
     "output_type": "stream",
     "text": [
      "14.02952315625\n",
      "13.066633331000002\n",
      "13.066666333333096\n"
     ]
    }
   ],
   "source": [
    "# řešení pomocí obdelníkového pravidla\n",
    "\n",
    "obdel = []\n",
    "\n",
    "# více kroků podle kterých dělím daný interval\n",
    "for krok in [0.1, 0.01, 0.001]:\n",
    "\n",
    "    print(obdelnikove(f, a, b, krok))\n",
    "\n",
    "    # ukladám rozdíl od řešení(sympy) v abs. hodnotě, kvůli vykreslení v grafu\n",
    "    obdel.append(abs(obdelnikove(f, a, b, krok) - analyt))"
   ]
  },
  {
   "attachments": {},
   "cell_type": "markdown",
   "metadata": {},
   "source": [
    "## Lichoběžníkové\n"
   ]
  },
  {
   "cell_type": "code",
   "execution_count": 29,
   "metadata": {},
   "outputs": [
    {
     "name": "stdout",
     "output_type": "stream",
     "text": [
      "14.0407155\n",
      "13.066733335999997\n",
      "13.066667333333594\n"
     ]
    }
   ],
   "source": [
    "# řešení pomocí lichoběžníkového pravidla\n",
    "\n",
    "licho = []\n",
    "\n",
    "for krok in [0.1, 0.01, 0.001]:\n",
    "\n",
    "    print(lichobeznikove(f, a, b, krok))\n",
    "\n",
    "    licho.append(abs(lichobeznikove(f, a, b, krok) - analyt))"
   ]
  },
  {
   "attachments": {},
   "cell_type": "markdown",
   "metadata": {},
   "source": [
    "## Simpsonovo"
   ]
  },
  {
   "cell_type": "code",
   "execution_count": 30,
   "metadata": {},
   "outputs": [
    {
     "name": "stdout",
     "output_type": "stream",
     "text": [
      "14.0332539375\n",
      "13.066666666000005\n",
      "13.066666666666599\n"
     ]
    }
   ],
   "source": [
    "# řešení pomocí simpsonova pravidla\n",
    "\n",
    "simpson = []\n",
    "\n",
    "for krok in [0.1, 0.01, 0.001]:\n",
    "\n",
    "    print(simpsonovo(f, a, b, krok))\n",
    "\n",
    "    simpson.append(abs(simpsonovo(f, a, b, krok) - analyt))"
   ]
  },
  {
   "attachments": {},
   "cell_type": "markdown",
   "metadata": {},
   "source": [
    "## Graf přesnosti"
   ]
  },
  {
   "cell_type": "code",
   "execution_count": 31,
   "metadata": {},
   "outputs": [
    {
     "data": {
      "image/png": "[encoded data removed]",
      "text/plain": [
       "<Figure size 900x300 with 3 Axes>"
      ]
     },
     "metadata": {},
     "output_type": "display_data"
    }
   ],
   "source": [
    "# jednotlivé přesnosti měření\n",
    "č1 = [obdel[0], licho[0], simpson[0]]\n",
    "č2 = [obdel[1], licho[1], simpson[1]]\n",
    "č3 = [obdel[2], licho[2], simpson[2]]\n",
    "\n",
    "plt.figure(figsize=(9, 3))\n",
    "\n",
    "plt.subplot(131)\n",
    "plt.bar(['Obdel', 'Licho', 'Simpson'], č1)\n",
    "plt.title('Krok: 0.1')\n",
    "\n",
    "plt.subplot(132)\n",
    "plt.bar(['Obdel', 'Licho', 'Simpson'], č2)\n",
    "plt.title('Krok: 0.01')\n",
    "\n",
    "plt.subplot(133)\n",
    "plt.bar(['Obdel', 'Licho', 'Simpson'], č3)\n",
    "plt.title('Krok: 0.001')\n",
    "\n",
    "plt.show()"
   ]
  },
  {
   "attachments": {},
   "cell_type": "markdown",
   "metadata": {},
   "source": [
    "# Hamornická funkce"
   ]
  },
  {
   "cell_type": "code",
   "execution_count": 32,
   "metadata": {},
   "outputs": [],
   "source": [
    "def f(x):\n",
    "    return sympy.sin(2*x)+sympy.cos(3*x)\n",
    "\n",
    "a = 0\n",
    "b = 4"
   ]
  },
  {
   "cell_type": "code",
   "execution_count": 33,
   "metadata": {},
   "outputs": [
    {
     "name": "stdout",
     "output_type": "stream",
     "text": [
      "sin(12)/3 - cos(8)/2 + 1/2\n",
      "0.39389237757082846\n"
     ]
    }
   ],
   "source": [
    "x = sympy.Symbol('x')\n",
    "print(sympy.integrate(f(x), (x, a, b)))\n",
    "print(float(sympy.integrate(f(x), (x, a, b))))\n",
    "analyt = float(sympy.integrate(f(x), (x, a, b)))"
   ]
  },
  {
   "attachments": {},
   "cell_type": "markdown",
   "metadata": {},
   "source": [
    "## Obdelníkové"
   ]
  },
  {
   "cell_type": "code",
   "execution_count": 34,
   "metadata": {},
   "outputs": [
    {
     "name": "stdout",
     "output_type": "stream",
     "text": [
      "0.394175594824381\n",
      "0.412291827397470\n",
      "0.395726276077303\n"
     ]
    }
   ],
   "source": [
    "obdel = []\n",
    "\n",
    "for krok in [0.1, 0.01, 0.001]:\n",
    "\n",
    "    print(obdelnikove(f, a, b, krok))\n",
    "    \n",
    "    obdel.append(abs(obdelnikove(f, a, b, krok) - analyt))"
   ]
  },
  {
   "attachments": {},
   "cell_type": "markdown",
   "metadata": {},
   "source": [
    "## Lichoběžníkové"
   ]
  },
  {
   "cell_type": "code",
   "execution_count": 35,
   "metadata": {},
   "outputs": [
    {
     "name": "stdout",
     "output_type": "stream",
     "text": [
      "0.393325385621534\n",
      "0.412281859331637\n",
      "0.395726189472309\n"
     ]
    }
   ],
   "source": [
    "licho = []\n",
    "\n",
    "for krok in [0.1, 0.01, 0.001]:\n",
    "\n",
    "    print(lichobeznikove(f, a, b, krok))\n",
    "\n",
    "    licho.append(abs(lichobeznikove(f, a, b, krok) - analyt))"
   ]
  },
  {
   "attachments": {},
   "cell_type": "markdown",
   "metadata": {},
   "source": [
    "## Simpsonovo"
   ]
  },
  {
   "cell_type": "code",
   "execution_count": 36,
   "metadata": {},
   "outputs": [
    {
     "name": "stdout",
     "output_type": "stream",
     "text": [
      "0.393892191756765\n",
      "0.412288504708858\n",
      "0.395726247208971\n"
     ]
    }
   ],
   "source": [
    "simpson = []\n",
    "\n",
    "for krok in [0.1, 0.01, 0.001]:\n",
    "\n",
    "    print(simpsonovo(f, a, b, krok))\n",
    "\n",
    "    simpson.append(abs(simpsonovo(f, a, b, krok) - analyt))"
   ]
  },
  {
   "attachments": {},
   "cell_type": "markdown",
   "metadata": {},
   "source": [
    "## Graf přesnosti"
   ]
  },
  {
   "cell_type": "code",
   "execution_count": 37,
   "metadata": {},
   "outputs": [
    {
     "data": {
      "image/png": "[encoded data removed]",
      "text/plain": [
       "<Figure size 900x300 with 3 Axes>"
      ]
     },
     "metadata": {},
     "output_type": "display_data"
    }
   ],
   "source": [
    "č1 = [obdel[0], licho[0], simpson[0]]\n",
    "č2 = [obdel[1], licho[1], simpson[1]]\n",
    "č3 = [obdel[2], licho[2], simpson[2]]\n",
    "\n",
    "plt.figure(figsize=(9, 3))\n",
    "\n",
    "plt.subplot(131)\n",
    "plt.bar(['Obdel', 'Licho', 'Simpson'], č1)\n",
    "plt.title('Krok: 0.1')\n",
    "\n",
    "plt.subplot(132)\n",
    "plt.bar(['Obdel', 'Licho', 'Simpson'], č2)\n",
    "plt.title('Krok: 0.01')\n",
    "\n",
    "plt.subplot(133)\n",
    "plt.bar(['Obdel', 'Licho', 'Simpson'], č3)\n",
    "plt.title('Krok: 0.001')\n",
    "\n",
    "plt.show()"
   ]
  },
  {
   "attachments": {},
   "cell_type": "markdown",
   "metadata": {},
   "source": [
    "# Exponenciální funkce"
   ]
  },
  {
   "cell_type": "code",
   "execution_count": 38,
   "metadata": {},
   "outputs": [],
   "source": [
    "def f(x):\n",
    "    return (sympy.E**(3*x))*2*x - sympy.E**x - 2*x\n",
    "\n",
    "a = -3\n",
    "b = 0.5"
   ]
  },
  {
   "cell_type": "code",
   "execution_count": 39,
   "metadata": {},
   "outputs": [
    {
     "name": "stdout",
     "output_type": "stream",
     "text": [
      "20*exp(-9)/9 + exp(-3) + 7.59924418155966\n",
      "7.649305493936602\n"
     ]
    }
   ],
   "source": [
    "x = sympy.Symbol('x')\n",
    "print(sympy.integrate(f(x), (x, a, b)))\n",
    "print(float(sympy.integrate(f(x), (x, a, b))))\n",
    "analyt = float(sympy.integrate(f(x), (x, a, b)))"
   ]
  },
  {
   "attachments": {},
   "cell_type": "markdown",
   "metadata": {},
   "source": [
    "## Obdelníkové"
   ]
  },
  {
   "cell_type": "code",
   "execution_count": 40,
   "metadata": {},
   "outputs": [
    {
     "name": "stdout",
     "output_type": "stream",
     "text": [
      "7.64067781481160\n",
      "7.66849808198166\n",
      "7.65114698601980\n"
     ]
    }
   ],
   "source": [
    "obdel = []\n",
    "\n",
    "for krok in [0.1, 0.01, 0.001]:\n",
    "\n",
    "    print(obdelnikove(f, a, b, krok))\n",
    "    \n",
    "    obdel.append(abs(obdelnikove(f, a, b, krok) - analyt))"
   ]
  },
  {
   "attachments": {},
   "cell_type": "markdown",
   "metadata": {},
   "source": [
    "## Lichoběžníkové"
   ]
  },
  {
   "cell_type": "code",
   "execution_count": 43,
   "metadata": {},
   "outputs": [
    {
     "name": "stdout",
     "output_type": "stream",
     "text": [
      "7.6665983554635\n",
      "7.668770002781674\n",
      "7.65114959903549\n"
     ]
    }
   ],
   "source": [
    "licho = []\n",
    "\n",
    "for krok in [0.1, 0.01, 0.001]:\n",
    "\n",
    "    print(float(lichobeznikove(f, a, b, krok)))\n",
    "\n",
    "    licho.append(abs(lichobeznikove(f, a, b, krok) - analyt))"
   ]
  },
  {
   "attachments": {},
   "cell_type": "markdown",
   "metadata": {},
   "source": [
    "## Simpsonovo"
   ]
  },
  {
   "cell_type": "code",
   "execution_count": 44,
   "metadata": {},
   "outputs": [
    {
     "name": "stdout",
     "output_type": "stream",
     "text": [
      "7.649317995028902\n",
      "7.66858872224833\n",
      "7.651147857025022\n"
     ]
    }
   ],
   "source": [
    "simpson = []\n",
    "\n",
    "for krok in [0.1, 0.01, 0.001]:\n",
    "\n",
    "    print(float(simpsonovo(f, a, b, krok)))\n",
    "\n",
    "    simpson.append(abs(simpsonovo(f, a, b, krok) - analyt))"
   ]
  },
  {
   "attachments": {},
   "cell_type": "markdown",
   "metadata": {},
   "source": [
    "## Graf přesnosti"
   ]
  },
  {
   "cell_type": "code",
   "execution_count": 45,
   "metadata": {},
   "outputs": [
    {
     "data": {
      "image/png": "[encoded data removed]",
      "text/plain": [
       "<Figure size 900x300 with 3 Axes>"
      ]
     },
     "metadata": {},
     "output_type": "display_data"
    }
   ],
   "source": [
    "č1 = [obdel[0], licho[0], simpson[0]]\n",
    "č2 = [obdel[1], licho[1], simpson[1]]\n",
    "č3 = [obdel[2], licho[2], simpson[2]]\n",
    "\n",
    "plt.figure(figsize=(9, 3))\n",
    "\n",
    "plt.subplot(131)\n",
    "plt.bar(['Obdel', 'Licho', 'Simpson'], č1)\n",
    "plt.title('Krok: 0.1')\n",
    "\n",
    "plt.subplot(132)\n",
    "plt.bar(['Obdel', 'Licho', 'Simpson'], č2)\n",
    "plt.title('Krok: 0.01')\n",
    "\n",
    "plt.subplot(133)\n",
    "plt.bar(['Obdel', 'Licho', 'Simpson'], č3)\n",
    "plt.title('Krok: 0.001')\n",
    "\n",
    "plt.show()"
   ]
  }
 ],
 "metadata": {
  "kernelspec": {
   "display_name": "Python 3",
   "language": "python",
   "name": "python3"
  },
  "language_info": {
   "codemirror_mode": {
    "name": "ipython",
    "version": 3
   },
   "file_extension": ".py",
   "mimetype": "text/x-python",
   "name": "python",
   "nbconvert_exporter": "python",
   "pygments_lexer": "ipython3",
   "version": "3.10.11"
  },
  "orig_nbformat": 4
 },
 "nbformat": 4,
 "nbformat_minor": 2
}
